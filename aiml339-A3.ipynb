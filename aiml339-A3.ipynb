{
 "cells": [
  {
   "metadata": {},
   "cell_type": "markdown",
   "source": [
    "# AIML339 Assignment 3\n",
    "## Matrix Profiles for Anomaly Detection and Time Series Dynamics\n",
    "\n",
    "The matrix profile is primarily used to find repeating patterns and outliers in a single, univariate time series.. This is based on the principle of similarity joins - comparing a sub-sequence of the time series against itself, by computing the distance between each pair of subsequences. Matrix profile algorithms have the following properties:\n",
    "- Domain agnostic\n",
    "- Can be exact or approximate\n",
    "- Only one hyperparameter (window length)\n",
    "- Parallelizable\n",
    "- Stream compatible\n",
    "- Handles missing data\n",
    "\n",
    "## Terms:\n",
    "- **Motif**: A repeated pattern in the time series.\n",
    "- **Discord**: An anomaly in the time series.\n",
    "\n",
    "\n"
   ],
   "id": "575d970a70815a4b"
  },
  {
   "metadata": {
    "ExecuteTime": {
     "end_time": "2025-09-30T02:59:07.459521Z",
     "start_time": "2025-09-30T02:59:04.247743Z"
    }
   },
   "cell_type": "code",
   "source": [
    "import pandas as pd\n",
    "import numpy as np\n",
    "import stumpy\n",
    "from stumpy import config"
   ],
   "id": "fdb8f7850e856cbf",
   "outputs": [],
   "execution_count": 1
  },
  {
   "metadata": {},
   "cell_type": "markdown",
   "source": [
    "### Load the Datasets\n",
    "Datasets used:\n",
    "- GenSyn (synthetic electricity prices)\n",
    "- Electricity Authority Point of Connection WWD1102"
   ],
   "id": "72d09d0caab8393c"
  },
  {
   "metadata": {
    "ExecuteTime": {
     "end_time": "2025-09-30T02:59:07.760231Z",
     "start_time": "2025-09-30T02:59:07.463315Z"
    }
   },
   "cell_type": "code",
   "source": [
    "gensyn_raw    = pd.read_csv(r\"data/GenSyn2122.csv\", parse_dates=[[0, 1]])\n",
    "gensyn_labels = pd.read_csv(r\"data/GenSyn_labels2122.csv\")\n",
    "poc_raw    = pd.read_csv(r\"data/2024-08-10_2025-08-10_pocWWD1102_WWD1103.csv\")"
   ],
   "id": "71bfa8ea5cffce48",
   "outputs": [
    {
     "name": "stderr",
     "output_type": "stream",
     "text": [
      "C:\\Users\\lenno\\AppData\\Local\\Temp\\ipykernel_19940\\840461730.py:1: FutureWarning: Support for nested sequences for 'parse_dates' in pd.read_csv is deprecated. Combine the desired columns with pd.to_datetime after parsing instead.\n",
      "  gensyn_raw    = pd.read_csv(r\"data/GenSyn2122.csv\", parse_dates=[[0, 1]])\n",
      "C:\\Users\\lenno\\AppData\\Local\\Temp\\ipykernel_19940\\840461730.py:1: UserWarning: Could not infer format, so each element will be parsed individually, falling back to `dateutil`. To ensure parsing is consistent and as-expected, please specify a format.\n",
      "  gensyn_raw    = pd.read_csv(r\"data/GenSyn2122.csv\", parse_dates=[[0, 1]])\n"
     ]
    }
   ],
   "execution_count": 2
  },
  {
   "metadata": {
    "ExecuteTime": {
     "end_time": "2025-09-30T03:00:59.320352Z",
     "start_time": "2025-09-30T03:00:59.280419Z"
    }
   },
   "cell_type": "code",
   "source": [
    "gensyn = pd.concat([gensyn_raw, gensyn_labels], axis=1)\n",
    "gensyn[\"time\"] = pd.to_datetime(gensyn[\"year_day_of_year\"], format=\"%Y %j\")\n",
    "gensyn[\"year\"] = pd.to_datetime(gensyn[\"year_day_of_year\"], format=\"%Y %j\").dt.strftime(\"%yyyy\")\n",
    "gensyn[\"day_of_year\"] = pd.to_datetime(gensyn[\"year_day_of_year\"], format=\"%Y %j\").dt.strftime(\"%j\").astype(int)\n",
    "#df_gensyn = gensyn.rename(columns={\"energy_usage\": \"energy\", \"anomaly_label\": \"label\"})"
   ],
   "id": "5412185e4fa6cbb7",
   "outputs": [],
   "execution_count": 13
  },
  {
   "metadata": {
    "ExecuteTime": {
     "end_time": "2025-09-30T03:01:00.165199Z",
     "start_time": "2025-09-30T03:01:00.147531Z"
    }
   },
   "cell_type": "code",
   "source": "poc_raw.head()",
   "id": "246685d110373f8",
   "outputs": [
    {
     "data": {
      "text/plain": [
       "  TradingDate  TradingPeriod                PublishDateTime PointOfConnection  \\\n",
       "0  2024-08-10              1  2024-08-10T00:00:00.000+12:00           WWD1102   \n",
       "1  2024-08-10              1  2024-08-10T00:00:00.000+12:00           WWD1103   \n",
       "2  2024-08-10              1  2024-08-10T00:04:42.000+12:00           WWD1102   \n",
       "3  2024-08-10              1  2024-08-10T00:04:42.000+12:00           WWD1103   \n",
       "4  2024-08-10              1  2024-08-10T00:09:33.000+12:00           WWD1102   \n",
       "\n",
       "  Island IsProxyPriceFlag  DollarsPerMegawattHour  \n",
       "0     NI                N                  834.55  \n",
       "1     NI                N                  834.55  \n",
       "2     NI                N                  831.84  \n",
       "3     NI                N                  831.84  \n",
       "4     NI                N                  833.55  "
      ],
      "text/html": [
       "<div>\n",
       "<style scoped>\n",
       "    .dataframe tbody tr th:only-of-type {\n",
       "        vertical-align: middle;\n",
       "    }\n",
       "\n",
       "    .dataframe tbody tr th {\n",
       "        vertical-align: top;\n",
       "    }\n",
       "\n",
       "    .dataframe thead th {\n",
       "        text-align: right;\n",
       "    }\n",
       "</style>\n",
       "<table border=\"1\" class=\"dataframe\">\n",
       "  <thead>\n",
       "    <tr style=\"text-align: right;\">\n",
       "      <th></th>\n",
       "      <th>TradingDate</th>\n",
       "      <th>TradingPeriod</th>\n",
       "      <th>PublishDateTime</th>\n",
       "      <th>PointOfConnection</th>\n",
       "      <th>Island</th>\n",
       "      <th>IsProxyPriceFlag</th>\n",
       "      <th>DollarsPerMegawattHour</th>\n",
       "    </tr>\n",
       "  </thead>\n",
       "  <tbody>\n",
       "    <tr>\n",
       "      <th>0</th>\n",
       "      <td>2024-08-10</td>\n",
       "      <td>1</td>\n",
       "      <td>2024-08-10T00:00:00.000+12:00</td>\n",
       "      <td>WWD1102</td>\n",
       "      <td>NI</td>\n",
       "      <td>N</td>\n",
       "      <td>834.55</td>\n",
       "    </tr>\n",
       "    <tr>\n",
       "      <th>1</th>\n",
       "      <td>2024-08-10</td>\n",
       "      <td>1</td>\n",
       "      <td>2024-08-10T00:00:00.000+12:00</td>\n",
       "      <td>WWD1103</td>\n",
       "      <td>NI</td>\n",
       "      <td>N</td>\n",
       "      <td>834.55</td>\n",
       "    </tr>\n",
       "    <tr>\n",
       "      <th>2</th>\n",
       "      <td>2024-08-10</td>\n",
       "      <td>1</td>\n",
       "      <td>2024-08-10T00:04:42.000+12:00</td>\n",
       "      <td>WWD1102</td>\n",
       "      <td>NI</td>\n",
       "      <td>N</td>\n",
       "      <td>831.84</td>\n",
       "    </tr>\n",
       "    <tr>\n",
       "      <th>3</th>\n",
       "      <td>2024-08-10</td>\n",
       "      <td>1</td>\n",
       "      <td>2024-08-10T00:04:42.000+12:00</td>\n",
       "      <td>WWD1103</td>\n",
       "      <td>NI</td>\n",
       "      <td>N</td>\n",
       "      <td>831.84</td>\n",
       "    </tr>\n",
       "    <tr>\n",
       "      <th>4</th>\n",
       "      <td>2024-08-10</td>\n",
       "      <td>1</td>\n",
       "      <td>2024-08-10T00:09:33.000+12:00</td>\n",
       "      <td>WWD1102</td>\n",
       "      <td>NI</td>\n",
       "      <td>N</td>\n",
       "      <td>833.55</td>\n",
       "    </tr>\n",
       "  </tbody>\n",
       "</table>\n",
       "</div>"
      ]
     },
     "execution_count": 14,
     "metadata": {},
     "output_type": "execute_result"
    }
   ],
   "execution_count": 14
  },
  {
   "metadata": {
    "ExecuteTime": {
     "end_time": "2025-09-30T03:01:00.641153Z",
     "start_time": "2025-09-30T03:01:00.441925Z"
    }
   },
   "cell_type": "code",
   "source": [
    "poc = (poc_raw\n",
    "    .where(poc_raw[\"PointOfConnection\"] == \"WWD1102\")\n",
    "    .groupby([\"TradingDate\", \"TradingPeriod\"], as_index=False)\n",
    "    .agg({\n",
    "        \"DollarsPerMegawattHour\": \"mean\"\n",
    "    })[[\"DollarsPerMegawattHour\", \"TradingDate\", \"TradingPeriod\"]]\n",
    ")\n",
    "\n",
    "# Join onto a complete list of start times (every half hour) to ensure no missing values\n",
    "\n",
    "data_start = min(poc[\"TradingDate\"])\n",
    "data_end = max(poc[\"TradingDate\"])\n",
    "\n",
    "dates_df = pd.DataFrame(pd.date_range(start=data_start, end=data_end), columns=[\"TradingDate\"])\n",
    "periods = pd.DataFrame(range(1, 48+1), columns=[\"TradingPeriod\"])\n",
    "dates_df = dates_df.join(periods, how=\"cross\")\n",
    "\n",
    "dates_df[\"TradingDate\"] = dates_df[\"TradingDate\"].dt.date\n",
    "poc[\"TradingDate\"] = pd.to_datetime(poc[\"TradingDate\"]).dt.date\n",
    "poc = pd.merge(poc, dates_df, how=\"left\", on=[\"TradingDate\", \"TradingPeriod\"])\n",
    "poc_series = poc.rename(columns={\"DollarsPerMegawattHour\": \"energy\"})\n"
   ],
   "id": "3028c8dd494272b",
   "outputs": [],
   "execution_count": 15
  },
  {
   "metadata": {
    "ExecuteTime": {
     "end_time": "2025-09-30T03:01:00.699536Z",
     "start_time": "2025-09-30T03:01:00.687211Z"
    }
   },
   "cell_type": "code",
   "source": [
    "# cuda acceleration\n",
    "\n",
    "#from numba import cuda\n",
    "#gpus = [device.id for device in cuda.list_devices()]"
   ],
   "id": "8ee98b27f42437a",
   "outputs": [],
   "execution_count": 16
  },
  {
   "metadata": {},
   "cell_type": "markdown",
   "source": "### Using the matrix profile",
   "id": "320d2048c733b51b"
  },
  {
   "metadata": {
    "ExecuteTime": {
     "end_time": "2025-09-30T03:01:00.887414Z",
     "start_time": "2025-09-30T03:01:00.852398Z"
    }
   },
   "cell_type": "code",
   "source": [
    "window_size = 10\n",
    "\n",
    "#matrix_profile = stumpy.gpu_stump(df_gensyn[\"energy\"], m=window_size, device_id=gpus)\n",
    "matrix_profile = stumpy.stump(df_gensyn[\"energy\"], m=window_size)"
   ],
   "id": "15b1a1bd754c4a6",
   "outputs": [],
   "execution_count": 17
  },
  {
   "metadata": {
    "ExecuteTime": {
     "end_time": "2025-09-30T03:01:01.422269Z",
     "start_time": "2025-09-30T03:01:01.411939Z"
    }
   },
   "cell_type": "code",
   "source": "matrix_profile",
   "id": "4e37b34a9a4c664f",
   "outputs": [
    {
     "data": {
      "text/plain": [
       "mparray([[0.3716703393165383, 171, -1, 171],\n",
       "         [0.4458043443027531, 532, -1, 532],\n",
       "         [0.25906144641735745, 533, -1, 533],\n",
       "         ...,\n",
       "         [0.21808146105050724, 355, 355, -1],\n",
       "         [0.22344179621309135, 356, 356, -1],\n",
       "         [0.24447764365659697, 356, 356, -1]],\n",
       "        shape=(721, 4), dtype=object)"
      ]
     },
     "execution_count": 18,
     "metadata": {},
     "output_type": "execute_result"
    }
   ],
   "execution_count": 18
  },
  {
   "metadata": {
    "ExecuteTime": {
     "end_time": "2025-09-30T03:01:01.967813Z",
     "start_time": "2025-09-30T03:01:01.957852Z"
    }
   },
   "cell_type": "code",
   "source": "from helpers import plot_features, plot_detection",
   "id": "b3fb4893cd91fdf",
   "outputs": [],
   "execution_count": 19
  },
  {
   "metadata": {
    "ExecuteTime": {
     "end_time": "2025-09-30T03:01:02.604591Z",
     "start_time": "2025-09-30T03:01:02.586507Z"
    }
   },
   "cell_type": "code",
   "source": "gensyn.head()",
   "id": "5158b221aa8b62d0",
   "outputs": [
    {
     "data": {
      "text/plain": [
       "  year_day_of_year  season  temperature   humidity  energy_usage  \\\n",
       "0           2021 1  summer    19.708638  78.625889     11.731837   \n",
       "1           2021 2  summer    20.703554  78.350411     13.453957   \n",
       "2           2021 3  summer    21.339178  82.736788     15.393096   \n",
       "3           2021 4  summer    20.823304  79.921728     16.657684   \n",
       "4           2021 5  summer    22.277698  80.406175     16.927320   \n",
       "\n",
       "   anomaly_label       time   year  day_of_year  \n",
       "0              1 2021-01-01  21yyy            1  \n",
       "1              1 2021-01-02  21yyy            2  \n",
       "2              1 2021-01-03  21yyy            3  \n",
       "3              1 2021-01-04  21yyy            4  \n",
       "4              1 2021-01-05  21yyy            5  "
      ],
      "text/html": [
       "<div>\n",
       "<style scoped>\n",
       "    .dataframe tbody tr th:only-of-type {\n",
       "        vertical-align: middle;\n",
       "    }\n",
       "\n",
       "    .dataframe tbody tr th {\n",
       "        vertical-align: top;\n",
       "    }\n",
       "\n",
       "    .dataframe thead th {\n",
       "        text-align: right;\n",
       "    }\n",
       "</style>\n",
       "<table border=\"1\" class=\"dataframe\">\n",
       "  <thead>\n",
       "    <tr style=\"text-align: right;\">\n",
       "      <th></th>\n",
       "      <th>year_day_of_year</th>\n",
       "      <th>season</th>\n",
       "      <th>temperature</th>\n",
       "      <th>humidity</th>\n",
       "      <th>energy_usage</th>\n",
       "      <th>anomaly_label</th>\n",
       "      <th>time</th>\n",
       "      <th>year</th>\n",
       "      <th>day_of_year</th>\n",
       "    </tr>\n",
       "  </thead>\n",
       "  <tbody>\n",
       "    <tr>\n",
       "      <th>0</th>\n",
       "      <td>2021 1</td>\n",
       "      <td>summer</td>\n",
       "      <td>19.708638</td>\n",
       "      <td>78.625889</td>\n",
       "      <td>11.731837</td>\n",
       "      <td>1</td>\n",
       "      <td>2021-01-01</td>\n",
       "      <td>21yyy</td>\n",
       "      <td>1</td>\n",
       "    </tr>\n",
       "    <tr>\n",
       "      <th>1</th>\n",
       "      <td>2021 2</td>\n",
       "      <td>summer</td>\n",
       "      <td>20.703554</td>\n",
       "      <td>78.350411</td>\n",
       "      <td>13.453957</td>\n",
       "      <td>1</td>\n",
       "      <td>2021-01-02</td>\n",
       "      <td>21yyy</td>\n",
       "      <td>2</td>\n",
       "    </tr>\n",
       "    <tr>\n",
       "      <th>2</th>\n",
       "      <td>2021 3</td>\n",
       "      <td>summer</td>\n",
       "      <td>21.339178</td>\n",
       "      <td>82.736788</td>\n",
       "      <td>15.393096</td>\n",
       "      <td>1</td>\n",
       "      <td>2021-01-03</td>\n",
       "      <td>21yyy</td>\n",
       "      <td>3</td>\n",
       "    </tr>\n",
       "    <tr>\n",
       "      <th>3</th>\n",
       "      <td>2021 4</td>\n",
       "      <td>summer</td>\n",
       "      <td>20.823304</td>\n",
       "      <td>79.921728</td>\n",
       "      <td>16.657684</td>\n",
       "      <td>1</td>\n",
       "      <td>2021-01-04</td>\n",
       "      <td>21yyy</td>\n",
       "      <td>4</td>\n",
       "    </tr>\n",
       "    <tr>\n",
       "      <th>4</th>\n",
       "      <td>2021 5</td>\n",
       "      <td>summer</td>\n",
       "      <td>22.277698</td>\n",
       "      <td>80.406175</td>\n",
       "      <td>16.927320</td>\n",
       "      <td>1</td>\n",
       "      <td>2021-01-05</td>\n",
       "      <td>21yyy</td>\n",
       "      <td>5</td>\n",
       "    </tr>\n",
       "  </tbody>\n",
       "</table>\n",
       "</div>"
      ]
     },
     "execution_count": 20,
     "metadata": {},
     "output_type": "execute_result"
    }
   ],
   "execution_count": 20
  },
  {
   "metadata": {
    "ExecuteTime": {
     "end_time": "2025-09-30T03:01:04.416974Z",
     "start_time": "2025-09-30T03:01:04.095369Z"
    }
   },
   "cell_type": "code",
   "source": "plot_features(gensyn, start_day=1, end_day=100, start_year=\"2021\", end_year=\"2021\", features=[\"energy_usage\"])",
   "id": "582f4fcc291de409",
   "outputs": [
    {
     "data": {
      "text/plain": [
       "<Figure size 1000x400 with 1 Axes>"
      ],
      "image/png": "[encoded data removed]"
     },
     "metadata": {},
     "output_type": "display_data"
    }
   ],
   "execution_count": 21
  },
  {
   "metadata": {
    "ExecuteTime": {
     "end_time": "2025-09-30T02:59:41.543494300Z",
     "start_time": "2025-09-30T01:56:18.784210Z"
    }
   },
   "cell_type": "code",
   "source": "gensyn",
   "id": "12cdcaa369df80b",
   "outputs": [
    {
     "data": {
      "text/plain": [
       "    year_day_of_year  season  temperature   humidity  energy_usage  \\\n",
       "0             2021 1  summer    19.708638  78.625889     11.731837   \n",
       "1             2021 2  summer    20.703554  78.350411     13.453957   \n",
       "2             2021 3  summer    21.339178  82.736788     15.393096   \n",
       "3             2021 4  summer    20.823304  79.921728     16.657684   \n",
       "4             2021 5  summer    22.277698  80.406175     16.927320   \n",
       "..               ...     ...          ...        ...           ...   \n",
       "725         2022 361  summer    24.648768  79.422802     18.579817   \n",
       "726         2022 362  summer    24.362897  80.541095     19.394421   \n",
       "727         2022 363  summer    24.730546  85.748327     20.060006   \n",
       "728         2022 364  summer    26.975549  81.506959     20.840548   \n",
       "729         2022 365  summer    27.610001  80.328680     20.850778   \n",
       "\n",
       "     anomaly_label       time  \n",
       "0                1 2021-01-01  \n",
       "1                1 2021-01-02  \n",
       "2                1 2021-01-03  \n",
       "3                1 2021-01-04  \n",
       "4                1 2021-01-05  \n",
       "..             ...        ...  \n",
       "725              1 2022-12-27  \n",
       "726              1 2022-12-28  \n",
       "727              1 2022-12-29  \n",
       "728              1 2022-12-30  \n",
       "729              1 2022-12-31  \n",
       "\n",
       "[730 rows x 7 columns]"
      ],
      "text/html": [
       "<div>\n",
       "<style scoped>\n",
       "    .dataframe tbody tr th:only-of-type {\n",
       "        vertical-align: middle;\n",
       "    }\n",
       "\n",
       "    .dataframe tbody tr th {\n",
       "        vertical-align: top;\n",
       "    }\n",
       "\n",
       "    .dataframe thead th {\n",
       "        text-align: right;\n",
       "    }\n",
       "</style>\n",
       "<table border=\"1\" class=\"dataframe\">\n",
       "  <thead>\n",
       "    <tr style=\"text-align: right;\">\n",
       "      <th></th>\n",
       "      <th>year_day_of_year</th>\n",
       "      <th>season</th>\n",
       "      <th>temperature</th>\n",
       "      <th>humidity</th>\n",
       "      <th>energy_usage</th>\n",
       "      <th>anomaly_label</th>\n",
       "      <th>time</th>\n",
       "    </tr>\n",
       "  </thead>\n",
       "  <tbody>\n",
       "    <tr>\n",
       "      <th>0</th>\n",
       "      <td>2021 1</td>\n",
       "      <td>summer</td>\n",
       "      <td>19.708638</td>\n",
       "      <td>78.625889</td>\n",
       "      <td>11.731837</td>\n",
       "      <td>1</td>\n",
       "      <td>2021-01-01</td>\n",
       "    </tr>\n",
       "    <tr>\n",
       "      <th>1</th>\n",
       "      <td>2021 2</td>\n",
       "      <td>summer</td>\n",
       "      <td>20.703554</td>\n",
       "      <td>78.350411</td>\n",
       "      <td>13.453957</td>\n",
       "      <td>1</td>\n",
       "      <td>2021-01-02</td>\n",
       "    </tr>\n",
       "    <tr>\n",
       "      <th>2</th>\n",
       "      <td>2021 3</td>\n",
       "      <td>summer</td>\n",
       "      <td>21.339178</td>\n",
       "      <td>82.736788</td>\n",
       "      <td>15.393096</td>\n",
       "      <td>1</td>\n",
       "      <td>2021-01-03</td>\n",
       "    </tr>\n",
       "    <tr>\n",
       "      <th>3</th>\n",
       "      <td>2021 4</td>\n",
       "      <td>summer</td>\n",
       "      <td>20.823304</td>\n",
       "      <td>79.921728</td>\n",
       "      <td>16.657684</td>\n",
       "      <td>1</td>\n",
       "      <td>2021-01-04</td>\n",
       "    </tr>\n",
       "    <tr>\n",
       "      <th>4</th>\n",
       "      <td>2021 5</td>\n",
       "      <td>summer</td>\n",
       "      <td>22.277698</td>\n",
       "      <td>80.406175</td>\n",
       "      <td>16.927320</td>\n",
       "      <td>1</td>\n",
       "      <td>2021-01-05</td>\n",
       "    </tr>\n",
       "    <tr>\n",
       "      <th>...</th>\n",
       "      <td>...</td>\n",
       "      <td>...</td>\n",
       "      <td>...</td>\n",
       "      <td>...</td>\n",
       "      <td>...</td>\n",
       "      <td>...</td>\n",
       "      <td>...</td>\n",
       "    </tr>\n",
       "    <tr>\n",
       "      <th>725</th>\n",
       "      <td>2022 361</td>\n",
       "      <td>summer</td>\n",
       "      <td>24.648768</td>\n",
       "      <td>79.422802</td>\n",
       "      <td>18.579817</td>\n",
       "      <td>1</td>\n",
       "      <td>2022-12-27</td>\n",
       "    </tr>\n",
       "    <tr>\n",
       "      <th>726</th>\n",
       "      <td>2022 362</td>\n",
       "      <td>summer</td>\n",
       "      <td>24.362897</td>\n",
       "      <td>80.541095</td>\n",
       "      <td>19.394421</td>\n",
       "      <td>1</td>\n",
       "      <td>2022-12-28</td>\n",
       "    </tr>\n",
       "    <tr>\n",
       "      <th>727</th>\n",
       "      <td>2022 363</td>\n",
       "      <td>summer</td>\n",
       "      <td>24.730546</td>\n",
       "      <td>85.748327</td>\n",
       "      <td>20.060006</td>\n",
       "      <td>1</td>\n",
       "      <td>2022-12-29</td>\n",
       "    </tr>\n",
       "    <tr>\n",
       "      <th>728</th>\n",
       "      <td>2022 364</td>\n",
       "      <td>summer</td>\n",
       "      <td>26.975549</td>\n",
       "      <td>81.506959</td>\n",
       "      <td>20.840548</td>\n",
       "      <td>1</td>\n",
       "      <td>2022-12-30</td>\n",
       "    </tr>\n",
       "    <tr>\n",
       "      <th>729</th>\n",
       "      <td>2022 365</td>\n",
       "      <td>summer</td>\n",
       "      <td>27.610001</td>\n",
       "      <td>80.328680</td>\n",
       "      <td>20.850778</td>\n",
       "      <td>1</td>\n",
       "      <td>2022-12-31</td>\n",
       "    </tr>\n",
       "  </tbody>\n",
       "</table>\n",
       "<p>730 rows × 7 columns</p>\n",
       "</div>"
      ]
     },
     "execution_count": 130,
     "metadata": {},
     "output_type": "execute_result"
    }
   ],
   "execution_count": 130
  },
  {
   "metadata": {},
   "cell_type": "code",
   "outputs": [],
   "execution_count": null,
   "source": "",
   "id": "5f8338b8b439ea9b"
  }
 ],
 "metadata": {
  "kernelspec": {
   "display_name": "Python 3",
   "language": "python",
   "name": "python3"
  },
  "language_info": {
   "codemirror_mode": {
    "name": "ipython",
    "version": 2
   },
   "file_extension": ".py",
   "mimetype": "text/x-python",
   "name": "python",
   "nbconvert_exporter": "python",
   "pygments_lexer": "ipython2",
   "version": "2.7.6"
  }
 },
 "nbformat": 4,
 "nbformat_minor": 5
}
