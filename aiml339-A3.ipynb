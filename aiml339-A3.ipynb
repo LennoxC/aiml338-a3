{
 "cells": [
  {
   "metadata": {},
   "cell_type": "markdown",
   "source": [
    "# AIML339 Assignment 3\n",
    "## Matrix Profiles for Anomaly Detection and Time Series Dynamics\n",
    "\n",
    "The matrix profile is primarily used to find repeating patterns and outliers in a single, univariate time series.. This is based on the principle of similarity joins - comparing a sub-sequence of the time series against itself, by computing the distance between each pair of subsequences. Matrix profile algorithms have the following properties:\n",
    "- Domain agnostic\n",
    "- Can be exact or approximate\n",
    "- Only one hyperparameter (window length)\n",
    "- Parallelizable\n",
    "- Stream compatible\n",
    "- Handles missing data\n",
    "\n",
    "## Terms:\n",
    "- **Motif**: A repeated pattern in the time series.\n",
    "- **Discord**: An anomaly in the time series.\n",
    "\n",
    "\n"
   ],
   "id": "575d970a70815a4b"
  },
  {
   "metadata": {},
   "cell_type": "code",
   "outputs": [],
   "execution_count": null,
   "source": "",
   "id": "fdb8f7850e856cbf"
  }
 ],
 "metadata": {
  "kernelspec": {
   "display_name": "Python 3",
   "language": "python",
   "name": "python3"
  },
  "language_info": {
   "codemirror_mode": {
    "name": "ipython",
    "version": 2
   },
   "file_extension": ".py",
   "mimetype": "text/x-python",
   "name": "python",
   "nbconvert_exporter": "python",
   "pygments_lexer": "ipython2",
   "version": "2.7.6"
  }
 },
 "nbformat": 4,
 "nbformat_minor": 5
}
